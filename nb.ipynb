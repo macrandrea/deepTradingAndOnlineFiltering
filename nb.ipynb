{
 "cells": [
  {
   "cell_type": "markdown",
   "metadata": {},
   "source": [
    "# Single Asset\n",
    "\n",
    "Consider an agent performing optimal execution within a time interval $\\mathbb{T}_N$, specifically over a time window $[0,T]$ divided into $N$ equally spaced intervals of length $\\tau = T/N$. For a single asset to be sold (or bought), with an initial quantity $q_0$, the return $(y_t = S_{t+1} - S_{t})$ evolves according to:\n",
    "\n",
    "$$ x_{t+1} = A_tx_{t} + B_tu_t + \\omega_t $$\n",
    "$$ y_t = C_tx_t + D_t u_t$$\n",
    "\n",
    "where $x_t$ represents the permanent impact at time $t \\in \\mathbb{T}_N$, $\\omega_t$ is a general noise term, and $u_t$ denotes the volume sold at time $t \\in \\mathbb{T}_N$ (note: $\\sum_{t \\in \\mathbb{T}_N} u_t = q_0$).\n",
    "\n",
    "The coefficients $A_t, B_t, C_t, D_t$ are defined as follows:\n",
    "- $A_t$: parameter for the memory of the autoregressive permanent impact,\n",
    "- $B_t$: intensity parameter of the control on impact,\n",
    "- $C_t$: intensity of cross-impact,\n",
    "- $D_t$: temporary impact.\n",
    "\n",
    "To determine an optimal policy $\\Pi: \\mathbb{R} \\to \\mathbb{R}$, the agent needs to estimate these autoregressive coefficients accurately.\n",
    "\n",
    "Estimation/action steps:\n",
    "1. Filter the coefficients\n",
    "2. Take action\n",
    "3. Minimise loss\n",
    "4. Backprop\n",
    "5. Weights adj. "
   ]
  },
  {
   "cell_type": "markdown",
   "metadata": {},
   "source": [
    "## Environment"
   ]
  },
  {
   "cell_type": "code",
   "execution_count": 4,
   "metadata": {},
   "outputs": [
    {
     "data": {
      "text/plain": [
       "(array([[0.00339627, 0.00206079, 0.00285387, 0.00203095, 0.00315108,\n",
       "         0.00306531, 0.00309748, 0.00250059, 0.0030909 , 0.00256512],\n",
       "        [0.00338293, 0.00092143, 0.00177422, 0.00307709, 0.00369147,\n",
       "         0.00271848, 0.00313197, 0.00270608, 0.00297331, 0.00106612]]),\n",
       " [array([0.00159622, 0.00226153]),\n",
       "  array([0.00052699, 0.00115451]),\n",
       "  array([0.00092405, 0.0016946 ]),\n",
       "  array([0.00136632, 0.00155543]),\n",
       "  array([0.00169695, 0.00220475]),\n",
       "  array([0.00131011, 0.00197676]),\n",
       "  array([0.00147414, 0.00207161]),\n",
       "  array([0.00125952, 0.00170665]),\n",
       "  array([0.00141162, 0.00203793]),\n",
       "  array([0.00062429, 0.00142143])])"
      ]
     },
     "execution_count": 4,
     "metadata": {},
     "output_type": "execute_result"
    }
   ],
   "source": [
    "import ambiente as amb\n",
    "import numpy as np\n",
    "\n",
    "price_0 = 0.01\n",
    "T = 10\n",
    "n = 2\n",
    "imp_0 = np.ones((n)) * 0.001\n",
    "A_0 = np.ones((n,n)) * np.random.rand(n, n) * 0.0001\n",
    "B_0 = np.ones((n,n)) * np.random.rand(n, n) * 0.0002\n",
    "C_0 = np.ones((n,n)) * np.random.rand(n, n) * 0.0003\n",
    "D_0 = np.ones((n,n)) * np.random.rand(n, n) * 0.0004\n",
    "y_0 = np.ones((n,n)) * 0.01\n",
    "u_t = np.zeros(n)\n",
    "\n",
    "ritorni = np.zeros((n, T))\n",
    "imp = []\n",
    "\n",
    "pri = amb.Price(price_0, imp_0, A_0, B_0, C_0, D_0, y_0, u_t, N_assets = n)\n",
    "\n",
    "for t in range(T):\n",
    "    u_t = np.random.uniform(low=0.0, high=10.0, size=n)\n",
    "    ritorni[..., t], impact = pri.get_price_ret(u_t)\n",
    "    imp.append(impact)\n",
    "\n",
    "ritorni, imp"
   ]
  }
 ],
 "metadata": {
  "kernelspec": {
   "display_name": "Python 3",
   "language": "python",
   "name": "python3"
  },
  "language_info": {
   "codemirror_mode": {
    "name": "ipython",
    "version": 3
   },
   "file_extension": ".py",
   "mimetype": "text/x-python",
   "name": "python",
   "nbconvert_exporter": "python",
   "pygments_lexer": "ipython3",
   "version": "3.10.11"
  }
 },
 "nbformat": 4,
 "nbformat_minor": 2
}
